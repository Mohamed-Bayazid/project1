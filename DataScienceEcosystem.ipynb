{
 "cells": [
  {
   "cell_type": "markdown",
   "id": "b6b7d957-f064-479c-aacd-c92c7c73d172",
   "metadata": {},
   "source": [
    "# Data Science Tools and Ecosystem"
   ]
  },
  {
   "cell_type": "markdown",
   "id": "29e92e11-1b8e-4fd7-a5ed-d30bc3780b53",
   "metadata": {},
   "source": [
    " In this notebook, Data Science Tools and Ecosystem are summarized."
   ]
  },
  {
   "cell_type": "markdown",
   "id": "d4048819-4089-4d89-b5ae-8f7b648fe839",
   "metadata": {},
   "source": [
    "__Objectives:__\n",
    "* Define data management and list the most widely used open source data management tools.\n",
    "* Declare ETL and list the most widely used open source data integration and transformation tools.\n",
    "* Mention the most popular open source data visualization tools.\n",
    "* Explain briefly what are the model deployment, model monitoring and assesement concepts means and mention the most widely tools used for each of them.\n",
    "* Describe what the ecosystem is and mention the usages and benefits of it.\n"
   ]
  },
  {
   "cell_type": "markdown",
   "id": "134638ab-206d-400d-8525-0df827972c69",
   "metadata": {},
   "source": [
    "Some of the popular languages that Data Scientists use are:\n",
    "1. Python\n",
    "2. Julia\n",
    "3. R"
   ]
  },
  {
   "cell_type": "markdown",
   "id": "80b7fb76-2e52-4213-a95d-1c372f635ccc",
   "metadata": {},
   "source": [
    "Some of the commonly used libraries used by Data Scientists include:\n",
    "1. Numpy\n",
    "2. Pandas\n",
    "3. Matplotlib"
   ]
  },
  {
   "cell_type": "markdown",
   "id": "5d9aaadd-e3e8-4227-af53-a40f0352a336",
   "metadata": {},
   "source": [
    "| Data Science Tools |\n",
    "| -------------|\n",
    "| Anaconda Navigator|\n",
    "| RStudio |\n",
    "| Vscode | "
   ]
  },
  {
   "cell_type": "markdown",
   "id": "dccdad3e-b500-4839-9927-2ca6a82ab023",
   "metadata": {},
   "source": [
    "### Below are a few examples of evaluating arithmetic expressions in Python"
   ]
  },
  {
   "cell_type": "code",
   "execution_count": 6,
   "id": "24993252-1747-43bc-a1c0-18b545cb304e",
   "metadata": {},
   "outputs": [
    {
     "data": {
      "text/plain": [
       "17"
      ]
     },
     "execution_count": 6,
     "metadata": {},
     "output_type": "execute_result"
    }
   ],
   "source": [
    "#This a simple arithmetic expression to mutiply then add integers\n",
    "(3*4)+5"
   ]
  },
  {
   "cell_type": "markdown",
   "id": "b3365312-951d-4370-bd8a-c60ac1832e70",
   "metadata": {},
   "source": [
    "## Author\n",
    "Mohamed ba yazid"
   ]
  },
  {
   "cell_type": "code",
   "execution_count": null,
   "id": "cc86f48a-754f-419d-9dd2-6f9aacb0aa51",
   "metadata": {},
   "outputs": [],
   "source": []
  }
 ],
 "metadata": {
  "kernelspec": {
   "display_name": "Python 3 (ipykernel)",
   "language": "python",
   "name": "python3"
  },
  "language_info": {
   "codemirror_mode": {
    "name": "ipython",
    "version": 3
   },
   "file_extension": ".py",
   "mimetype": "text/x-python",
   "name": "python",
   "nbconvert_exporter": "python",
   "pygments_lexer": "ipython3",
   "version": "3.12.5"
  }
 },
 "nbformat": 4,
 "nbformat_minor": 5
}
